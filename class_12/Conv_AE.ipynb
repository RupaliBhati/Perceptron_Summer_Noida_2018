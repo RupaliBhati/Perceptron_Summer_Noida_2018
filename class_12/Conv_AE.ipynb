{
 "cells": [
  {
   "cell_type": "code",
   "execution_count": 1,
   "metadata": {
    "collapsed": true
   },
   "outputs": [],
   "source": [
    "import numpy as np\n",
    "import pandas as pd\n",
    "import torch\n",
    "from torch.autograd import Variable\n",
    "import torch.nn.functional as F\n",
    "from torch import nn\n",
    "import matplotlib.pyplot as plt\n",
    "%matplotlib inline\n",
    "import torch.utils.data as Data"
   ]
  },
  {
   "cell_type": "code",
   "execution_count": 2,
   "metadata": {
    "collapsed": false
   },
   "outputs": [
    {
     "name": "stdout",
     "output_type": "stream",
     "text": [
      "(42000, 785)\n"
     ]
    }
   ],
   "source": [
    "ds = pd.read_csv('../../data/mnist.csv').values\n",
    "print ds.shape"
   ]
  },
  {
   "cell_type": "code",
   "execution_count": 3,
   "metadata": {
    "collapsed": false
   },
   "outputs": [
    {
     "name": "stdout",
     "output_type": "stream",
     "text": [
      "(10000, 1, 28, 28) (10000,)\n"
     ]
    }
   ],
   "source": [
    "# Data Preparation\n",
    "X_train = ds[:10000, 1:].reshape((-1, 1, 28, 28)) / 255.0\n",
    "y_train = ds[:10000, 0]\n",
    "\n",
    "X_test = ds[5000:5100, 1:].reshape((-1, 1, 28, 28)) / 255.0\n",
    "y_test = ds[5000:5100, 0]\n",
    "# y_train = one_hot(y_train_labels, 10)\n",
    "\n",
    "print X_train.shape, y_train.shape"
   ]
  },
  {
   "cell_type": "code",
   "execution_count": null,
   "metadata": {
    "collapsed": true
   },
   "outputs": [],
   "source": []
  },
  {
   "cell_type": "code",
   "execution_count": 4,
   "metadata": {
    "collapsed": false
   },
   "outputs": [],
   "source": [
    "class CAE(torch.nn.Module):\n",
    "    def __init__(self):\n",
    "        super(CAE, self).__init__()\n",
    "        self.encoder = nn.Sequential(\n",
    "            nn.Conv2d(1, 16, 3, stride=3, padding=1),  # b, 16, 10, 10\n",
    "            nn.ReLU(True),\n",
    "            nn.MaxPool2d(2, stride=2),  # b, 16, 5, 5\n",
    "            nn.Conv2d(16, 8, 3, stride=2, padding=1),  # b, 8, 3, 3\n",
    "            nn.ReLU(True),\n",
    "            nn.MaxPool2d(2, stride=1)  # b, 8, 2, 2\n",
    "        )\n",
    "        self.decoder = nn.Sequential(\n",
    "            nn.ConvTranspose2d(8, 16, 3, stride=2),  # b, 16, 5, 5\n",
    "            nn.ReLU(True),\n",
    "            nn.ConvTranspose2d(16, 8, 5, stride=3, padding=1),  # b, 8, 15, 15\n",
    "            nn.ReLU(True),\n",
    "            nn.ConvTranspose2d(8, 1, 2, stride=2, padding=1),  # b, 1, 28, 28\n",
    "            nn.Sigmoid()\n",
    "        )\n",
    "\n",
    "    def forward(self, x):\n",
    "        x = self.encoder(x)\n",
    "        x = self.decoder(x)\n",
    "        return x"
   ]
  },
  {
   "cell_type": "code",
   "execution_count": 6,
   "metadata": {
    "collapsed": true
   },
   "outputs": [],
   "source": [
    "model = CAE().cuda()"
   ]
  },
  {
   "cell_type": "code",
   "execution_count": 7,
   "metadata": {
    "collapsed": false
   },
   "outputs": [],
   "source": [
    "# model(torch.FloatTensor(X_train[:1])).min()"
   ]
  },
  {
   "cell_type": "code",
   "execution_count": 8,
   "metadata": {
    "collapsed": false
   },
   "outputs": [],
   "source": [
    "optimizer = torch.optim.Adam(model.parameters(), lr=0.008)\n",
    "loss_func = nn.MSELoss()"
   ]
  },
  {
   "cell_type": "code",
   "execution_count": 9,
   "metadata": {
    "collapsed": true
   },
   "outputs": [],
   "source": [
    "def make_batch(train, labels, batch_size=10, gpu=True):\n",
    "    start = 0\n",
    "    stop = start + batch_size\n",
    "    while start < train.shape[0]:\n",
    "        if gpu:\n",
    "            yield Variable(torch.FloatTensor(train[start:stop]), requires_grad=True).cuda(), Variable(torch.FloatTensor(train[start:stop])).cuda()\n",
    "        else:\n",
    "            yield Variable(torch.FloatTensor(train[start:stop]), requires_grad=True).cuda(), Variable(torch.LongTensor(train[start:stop])).cuda()\n",
    "        start = stop\n",
    "        stop = start + batch_size"
   ]
  },
  {
   "cell_type": "code",
   "execution_count": 11,
   "metadata": {
    "collapsed": false
   },
   "outputs": [
    {
     "name": "stdout",
     "output_type": "stream",
     "text": [
      "('Epoch: ', 0, '| Step: ', 0, '| Acc: ', array(0.03523508, dtype=float32))\n",
      "('Epoch: ', 1, '| Step: ', 0, '| Acc: ', array(0.03502721, dtype=float32))\n",
      "('Epoch: ', 2, '| Step: ', 0, '| Acc: ', array(0.03482409, dtype=float32))\n",
      "('Epoch: ', 3, '| Step: ', 0, '| Acc: ', array(0.03468366, dtype=float32))\n",
      "('Epoch: ', 4, '| Step: ', 0, '| Acc: ', array(0.03453616, dtype=float32))\n",
      "('Epoch: ', 5, '| Step: ', 0, '| Acc: ', array(0.03444185, dtype=float32))\n",
      "('Epoch: ', 6, '| Step: ', 0, '| Acc: ', array(0.03427736, dtype=float32))\n",
      "('Epoch: ', 7, '| Step: ', 0, '| Acc: ', array(0.03423708, dtype=float32))\n",
      "('Epoch: ', 8, '| Step: ', 0, '| Acc: ', array(0.03412658, dtype=float32))\n",
      "('Epoch: ', 9, '| Step: ', 0, '| Acc: ', array(0.03404313, dtype=float32))\n",
      "('Epoch: ', 10, '| Step: ', 0, '| Acc: ', array(0.03397313, dtype=float32))\n",
      "('Epoch: ', 11, '| Step: ', 0, '| Acc: ', array(0.03390136, dtype=float32))\n",
      "('Epoch: ', 12, '| Step: ', 0, '| Acc: ', array(0.03378897, dtype=float32))\n",
      "('Epoch: ', 13, '| Step: ', 0, '| Acc: ', array(0.03372971, dtype=float32))\n",
      "('Epoch: ', 14, '| Step: ', 0, '| Acc: ', array(0.03367044, dtype=float32))\n",
      "('Epoch: ', 15, '| Step: ', 0, '| Acc: ', array(0.03357356, dtype=float32))\n",
      "('Epoch: ', 16, '| Step: ', 0, '| Acc: ', array(0.03351963, dtype=float32))\n",
      "('Epoch: ', 17, '| Step: ', 0, '| Acc: ', array(0.03349188, dtype=float32))\n",
      "('Epoch: ', 18, '| Step: ', 0, '| Acc: ', array(0.03331609, dtype=float32))\n",
      "('Epoch: ', 19, '| Step: ', 0, '| Acc: ', array(0.03324784, dtype=float32))\n",
      "('Epoch: ', 20, '| Step: ', 0, '| Acc: ', array(0.03317305, dtype=float32))\n",
      "('Epoch: ', 21, '| Step: ', 0, '| Acc: ', array(0.03314245, dtype=float32))\n",
      "('Epoch: ', 22, '| Step: ', 0, '| Acc: ', array(0.03306226, dtype=float32))\n",
      "('Epoch: ', 23, '| Step: ', 0, '| Acc: ', array(0.03296834, dtype=float32))\n",
      "('Epoch: ', 24, '| Step: ', 0, '| Acc: ', array(0.03298698, dtype=float32))\n",
      "('Epoch: ', 25, '| Step: ', 0, '| Acc: ', array(0.03298708, dtype=float32))\n",
      "('Epoch: ', 26, '| Step: ', 0, '| Acc: ', array(0.03289663, dtype=float32))\n",
      "('Epoch: ', 27, '| Step: ', 0, '| Acc: ', array(0.03287156, dtype=float32))\n",
      "('Epoch: ', 28, '| Step: ', 0, '| Acc: ', array(0.03294298, dtype=float32))\n",
      "('Epoch: ', 29, '| Step: ', 0, '| Acc: ', array(0.03291987, dtype=float32))\n",
      "('Epoch: ', 30, '| Step: ', 0, '| Acc: ', array(0.03273027, dtype=float32))\n",
      "('Epoch: ', 31, '| Step: ', 0, '| Acc: ', array(0.03259823, dtype=float32))\n",
      "('Epoch: ', 32, '| Step: ', 0, '| Acc: ', array(0.03262053, dtype=float32))\n",
      "('Epoch: ', 33, '| Step: ', 0, '| Acc: ', array(0.03257726, dtype=float32))\n",
      "('Epoch: ', 34, '| Step: ', 0, '| Acc: ', array(0.03246834, dtype=float32))\n",
      "('Epoch: ', 35, '| Step: ', 0, '| Acc: ', array(0.03250072, dtype=float32))\n",
      "('Epoch: ', 36, '| Step: ', 0, '| Acc: ', array(0.03241313, dtype=float32))\n",
      "('Epoch: ', 37, '| Step: ', 0, '| Acc: ', array(0.03243171, dtype=float32))\n",
      "('Epoch: ', 38, '| Step: ', 0, '| Acc: ', array(0.0323853, dtype=float32))\n",
      "('Epoch: ', 39, '| Step: ', 0, '| Acc: ', array(0.03225546, dtype=float32))\n",
      "('Epoch: ', 40, '| Step: ', 0, '| Acc: ', array(0.03217152, dtype=float32))\n",
      "('Epoch: ', 41, '| Step: ', 0, '| Acc: ', array(0.03211286, dtype=float32))\n",
      "('Epoch: ', 42, '| Step: ', 0, '| Acc: ', array(0.03216165, dtype=float32))\n",
      "('Epoch: ', 43, '| Step: ', 0, '| Acc: ', array(0.03207095, dtype=float32))\n",
      "('Epoch: ', 44, '| Step: ', 0, '| Acc: ', array(0.03202831, dtype=float32))\n",
      "('Epoch: ', 45, '| Step: ', 0, '| Acc: ', array(0.03201158, dtype=float32))\n",
      "('Epoch: ', 46, '| Step: ', 0, '| Acc: ', array(0.03193628, dtype=float32))\n",
      "('Epoch: ', 47, '| Step: ', 0, '| Acc: ', array(0.03201587, dtype=float32))\n",
      "('Epoch: ', 48, '| Step: ', 0, '| Acc: ', array(0.03196315, dtype=float32))\n",
      "('Epoch: ', 49, '| Step: ', 0, '| Acc: ', array(0.03205655, dtype=float32))\n"
     ]
    }
   ],
   "source": [
    "for epoch in range(50):\n",
    "    for step, (b_x, b_y) in enumerate(make_batch(X_train, y_train, 256)):   # gives batch data, normalize x when iterate train_loader\n",
    "        # print step,\n",
    "        output = model(b_x)               # cnn output\n",
    "        # print output.size(), output.sum(dim=0)\n",
    "        loss = loss_func(output, b_y)   # cross entropy loss\n",
    "        optimizer.zero_grad()           # clear gradients for this training step\n",
    "        loss.backward()                 # backpropagation, compute gradients\n",
    "        \n",
    "        # for params in model.parameters():\n",
    "        #     print params.grad.cpu().data.sum() # Y U no train!!!\n",
    "        optimizer.step()                # apply gradients\n",
    "\n",
    "        if step % 200 == 0:\n",
    "            test_output = model(torch.FloatTensor(X_test).cuda())\n",
    "            test_loss = loss_func(test_output, torch.FloatTensor(X_test).cuda())\n",
    "            acc = test_loss.cpu().data.numpy()\n",
    "            # pred_y = torch.max(test_output, 1)[1].data.squeeze().numpy()\n",
    "            # accuracy = float((pred_y == test_y.data.numpy()).astype(int).sum()) / float(test_y.size(0))\n",
    "            print('Epoch: ', epoch, '| Step: ', step, '| Acc: ', acc)"
   ]
  },
  {
   "cell_type": "code",
   "execution_count": 12,
   "metadata": {
    "collapsed": false
   },
   "outputs": [
    {
     "data": {
      "text/plain": [
       "CAE(\n",
       "  (encoder): Sequential(\n",
       "    (0): Conv2d(1, 16, kernel_size=(3, 3), stride=(3, 3), padding=(1, 1))\n",
       "    (1): ReLU(inplace)\n",
       "    (2): MaxPool2d(kernel_size=2, stride=2, padding=0, dilation=1, ceil_mode=False)\n",
       "    (3): Conv2d(16, 8, kernel_size=(3, 3), stride=(2, 2), padding=(1, 1))\n",
       "    (4): ReLU(inplace)\n",
       "    (5): MaxPool2d(kernel_size=2, stride=1, padding=0, dilation=1, ceil_mode=False)\n",
       "  )\n",
       "  (decoder): Sequential(\n",
       "    (0): ConvTranspose2d(8, 16, kernel_size=(3, 3), stride=(2, 2))\n",
       "    (1): ReLU(inplace)\n",
       "    (2): ConvTranspose2d(16, 8, kernel_size=(5, 5), stride=(3, 3), padding=(1, 1))\n",
       "    (3): ReLU(inplace)\n",
       "    (4): ConvTranspose2d(8, 1, kernel_size=(2, 2), stride=(2, 2), padding=(1, 1))\n",
       "    (5): Sigmoid()\n",
       "  )\n",
       ")"
      ]
     },
     "execution_count": 12,
     "metadata": {},
     "output_type": "execute_result"
    }
   ],
   "source": [
    "model.cpu()\n",
    "# model.cuda()"
   ]
  },
  {
   "cell_type": "code",
   "execution_count": 13,
   "metadata": {
    "collapsed": false
   },
   "outputs": [],
   "source": [
    "o = model(torch.FloatTensor(X_train[:100])).data.numpy()"
   ]
  },
  {
   "cell_type": "code",
   "execution_count": 15,
   "metadata": {
    "collapsed": false
   },
   "outputs": [
    {
     "data": {
      "text/plain": [
       "<matplotlib.image.AxesImage at 0x7f4e349fb790>"
      ]
     },
     "execution_count": 15,
     "metadata": {},
     "output_type": "execute_result"
    },
    {
     "data": {
      "image/png": "[encoded data removed]",
      "text/plain": [
       "<matplotlib.figure.Figure at 0x7f4e681b8350>"
      ]
     },
     "metadata": {},
     "output_type": "display_data"
    },
    {
     "data": {
      "image/png": "[encoded data removed]",
      "text/plain": [
       "<matplotlib.figure.Figure at 0x7f4e7d7f10d0>"
      ]
     },
     "metadata": {},
     "output_type": "display_data"
    }
   ],
   "source": [
    "plt.figure(0)\n",
    "plt.imshow(o[0].reshape((28, 28)), cmap='gray')\n",
    "\n",
    "plt.figure(1)\n",
    "plt.imshow(X_train[0].reshape((28, 28)), cmap='gray')"
   ]
  },
  {
   "cell_type": "code",
   "execution_count": null,
   "metadata": {
    "collapsed": true
   },
   "outputs": [],
   "source": []
  },
  {
   "cell_type": "code",
   "execution_count": null,
   "metadata": {
    "collapsed": true
   },
   "outputs": [],
   "source": []
  }
 ],
 "metadata": {
  "kernelspec": {
   "display_name": "Python 2",
   "language": "python",
   "name": "python2"
  },
  "language_info": {
   "codemirror_mode": {
    "name": "ipython",
    "version": 2
   },
   "file_extension": ".py",
   "mimetype": "text/x-python",
   "name": "python",
   "nbconvert_exporter": "python",
   "pygments_lexer": "ipython2",
   "version": "2.7.12"
  }
 },
 "nbformat": 4,
 "nbformat_minor": 2
}
