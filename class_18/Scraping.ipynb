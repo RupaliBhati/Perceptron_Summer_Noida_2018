{
 "cells": [
  {
   "cell_type": "code",
   "execution_count": 3,
   "metadata": {
    "collapsed": true
   },
   "outputs": [],
   "source": [
    "import requests\n",
    "from bs4 import BeautifulSoup as BS"
   ]
  },
  {
   "cell_type": "markdown",
   "metadata": {},
   "source": [
    "## Start with a Simple Page"
   ]
  },
  {
   "cell_type": "code",
   "execution_count": 4,
   "metadata": {
    "collapsed": true
   },
   "outputs": [],
   "source": [
    "f = open('./index.html')\n",
    "html = f.read()\n",
    "f.close()"
   ]
  },
  {
   "cell_type": "code",
   "execution_count": 9,
   "metadata": {
    "collapsed": false
   },
   "outputs": [
    {
     "name": "stdout",
     "output_type": "stream",
     "text": [
      "<!DOCTYPE html>\n",
      "<html>\n",
      "<head>\n",
      "<title>My Page</title>\n",
      "</head>\n",
      "<body bgcolor=\"yellow\">\n",
      "<h1>Welcome to my page!</h1>\n",
      "<br/><hr/>\n",
      "<p>Lorem Ipsum Lorem Ipsum Lorem Ipsum Lorem Ipsum</p>\n",
      "</body>\n",
      "</html>\n",
      "\n"
     ]
    }
   ],
   "source": [
    "soup = BS(html)\n",
    "print soup"
   ]
  },
  {
   "cell_type": "code",
   "execution_count": 30,
   "metadata": {
    "collapsed": false
   },
   "outputs": [
    {
     "name": "stdout",
     "output_type": "stream",
     "text": [
      "My Page\n",
      "Welcome to my page!\n"
     ]
    }
   ],
   "source": [
    "# print soup.html.head.title.text\n",
    "# print soup.html.body.h1.text\n",
    "\n",
    "print soup.find_all('title')[0].text\n",
    "print soup.find_all('h1')[0].text"
   ]
  },
  {
   "cell_type": "markdown",
   "metadata": {},
   "source": [
    "## Scrape XKCD"
   ]
  },
  {
   "cell_type": "code",
   "execution_count": 48,
   "metadata": {
    "collapsed": false
   },
   "outputs": [
    {
     "name": "stdout",
     "output_type": "stream",
     "text": [
      "200\n"
     ]
    }
   ],
   "source": [
    "url = 'https://xkcd.com/1854/'\n",
    "\n",
    "r = requests.get(url)\n",
    "print r.status_code"
   ]
  },
  {
   "cell_type": "code",
   "execution_count": 49,
   "metadata": {
    "collapsed": false
   },
   "outputs": [],
   "source": [
    "soup = BS(r.text)"
   ]
  },
  {
   "cell_type": "code",
   "execution_count": 50,
   "metadata": {
    "collapsed": false
   },
   "outputs": [
    {
     "name": "stdout",
     "output_type": "stream",
     "text": [
      "https://imgs.xkcd.com/comics/refresh_types.png\n"
     ]
    }
   ],
   "source": [
    "# Get all the div elements\n",
    "divs = soup.find_all('div', id='comic')\n",
    "\n",
    "image_div =  divs[0]\n",
    "\n",
    "image_url = 'https:' + image_div.img['src']\n",
    "print image_url"
   ]
  },
  {
   "cell_type": "code",
   "execution_count": 53,
   "metadata": {
    "collapsed": true
   },
   "outputs": [],
   "source": [
    "# Wrapping this all in a function\n",
    "def get_xkcd_image(idx=1000):\n",
    "    url = 'https://xkcd.com/{}/'.format(idx)\n",
    "    img_url = None\n",
    "    r = requests.get(url)\n",
    "    if r.status_code == 200:\n",
    "        soup = BS(r.text)\n",
    "        img_url = 'https:' + soup.find_all('div', id='comic')[0].img['src']\n",
    "    return img_url"
   ]
  },
  {
   "cell_type": "code",
   "execution_count": 56,
   "metadata": {
    "collapsed": false
   },
   "outputs": [
    {
     "name": "stdout",
     "output_type": "stream",
     "text": [
      "1 https://imgs.xkcd.com/comics/barrel_cropped_(1).jpg\n",
      "101 https://imgs.xkcd.com/comics/laser_scope.jpg\n",
      "201 https://imgs.xkcd.com/comics/christmas_gps.png\n",
      "301 https://imgs.xkcd.com/comics/limerick.png\n",
      "401 https://imgs.xkcd.com/comics/large_hadron_collider.png\n",
      "501 https://imgs.xkcd.com/comics/faust_20.png\n",
      "601 https://imgs.xkcd.com/comics/game_theory.png\n",
      "701 https://imgs.xkcd.com/comics/science_valentine.png\n",
      "801 https://imgs.xkcd.com/comics/golden_hammer.png\n",
      "901 https://imgs.xkcd.com/comics/temperature.png\n"
     ]
    }
   ],
   "source": [
    "for ix in range(1, 1000, 100):\n",
    "    print ix, get_xkcd_image(ix)"
   ]
  },
  {
   "cell_type": "code",
   "execution_count": null,
   "metadata": {
    "collapsed": true
   },
   "outputs": [],
   "source": []
  },
  {
   "cell_type": "code",
   "execution_count": null,
   "metadata": {
    "collapsed": true
   },
   "outputs": [],
   "source": []
  },
  {
   "cell_type": "code",
   "execution_count": null,
   "metadata": {
    "collapsed": true
   },
   "outputs": [],
   "source": []
  },
  {
   "cell_type": "code",
   "execution_count": null,
   "metadata": {
    "collapsed": true
   },
   "outputs": [],
   "source": []
  },
  {
   "cell_type": "code",
   "execution_count": null,
   "metadata": {
    "collapsed": true
   },
   "outputs": [],
   "source": []
  },
  {
   "cell_type": "code",
   "execution_count": null,
   "metadata": {
    "collapsed": true
   },
   "outputs": [],
   "source": []
  }
 ],
 "metadata": {
  "kernelspec": {
   "display_name": "Python 2",
   "language": "python",
   "name": "python2"
  },
  "language_info": {
   "codemirror_mode": {
    "name": "ipython",
    "version": 2
   },
   "file_extension": ".py",
   "mimetype": "text/x-python",
   "name": "python",
   "nbconvert_exporter": "python",
   "pygments_lexer": "ipython2",
   "version": "2.7.12"
  }
 },
 "nbformat": 4,
 "nbformat_minor": 2
}
